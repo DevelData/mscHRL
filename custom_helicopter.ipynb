{
 "cells": [
  {
   "cell_type": "code",
   "execution_count": 1,
   "id": "b17aeafc-6402-48bc-afd7-8b4305950f53",
   "metadata": {},
   "outputs": [],
   "source": [
    "import numpy as np\n",
    "import cv2\n",
    "import matplotlib.pyplot as plt\n",
    "import PIL.Image as Image\n",
    "import gym\n",
    "import random\n",
    "\n",
    "from gym import Env, spaces\n",
    "import time\n",
    "\n",
    "font = cv2.FONT_HERSHEY_COMPLEX_SMALL"
   ]
  },
  {
   "cell_type": "code",
   "execution_count": 2,
   "id": "b3c9cb59-612d-4be3-a612-847bd8a5dc4a",
   "metadata": {},
   "outputs": [],
   "source": [
    "class Point(object):\n",
    "    def __init__(self, name, x_max, x_min, y_max, y_min):\n",
    "        self.x = 0\n",
    "        self.y = 0\n",
    "        self.x_min = x_min\n",
    "        self.x_max = x_max\n",
    "        self.y_min = y_min\n",
    "        self.y_max = y_max\n",
    "        self.name = name\n",
    "        \n",
    "    def clamp(self, n, minn, maxn):\n",
    "        return max(min(maxn, n), minn)\n",
    "        \n",
    "    def set_position(self, x, y):\n",
    "        self.x = self.clamp(x, self.x_min, self.x_max - self.icon_w)\n",
    "        self.y = self.clamp(y, self.y_min, self.y_max - self.icon_h)\n",
    "        \n",
    "    def get_position(self):\n",
    "        return (self.x, self.y)\n",
    "    \n",
    "    def move(self, del_x, del_y):\n",
    "        self.x = self.x + del_x\n",
    "        self.y = self.y + del_y\n",
    "        \n",
    "        self.x = self.clamp(self.x, self.x_min, self.x_max - self.icon_w)\n",
    "        self.y = self.clamp(self.y, self.y_min, self.y_max - self.icon_h)"
   ]
  },
  {
   "cell_type": "code",
   "execution_count": 3,
   "id": "5d340e59-33f0-4ca1-b6fd-94003eb307be",
   "metadata": {},
   "outputs": [],
   "source": [
    "class Chopper(Point):\n",
    "    def __init__(self, name, x_max, x_min, y_max, y_min):\n",
    "        super(Chopper, self).__init__(name, x_max, x_min, y_max, y_min)\n",
    "        # RGB image - original tutorial may have used grayscale image\n",
    "        # Selected the second layer in the 3rd dimension - had to use a 2D image\n",
    "        self.icon = cv2.imread(\"custom_helicopter_images/chopper_tony_tony.png\") / 255.0\n",
    "        self.icon_w = 64\n",
    "        self.icon_h = 64\n",
    "        self.icon = cv2.resize(self.icon, (self.icon_h, self.icon_w), interpolation=cv2.INTER_AREA)\n",
    "\n",
    "\n",
    "class Bird(Point):\n",
    "    def __init__(self, name, x_max, x_min, y_max, y_min):\n",
    "        super(Bird, self).__init__(name, x_max, x_min, y_max, y_min)\n",
    "        self.icon = cv2.imread(\"custom_helicopter_images/bird.png\") / 255.0\n",
    "        self.icon_w = 32\n",
    "        self.icon_h = 32\n",
    "        self.icon = cv2.resize(self.icon, (self.icon_h, self.icon_w), interpolation=cv2.INTER_AREA)\n",
    "        \n",
    "        \n",
    "class Fuel(Point):\n",
    "    def __init__(self, name, x_max, x_min, y_max, y_min):\n",
    "        super(Fuel, self).__init__(name, x_max, x_min, y_max, y_min)\n",
    "        self.icon = cv2.imread(\"custom_helicopter_images/candy.png\") / 255.0\n",
    "        self.icon_w = 32\n",
    "        self.icon_h = 32\n",
    "        self.icon = cv2.resize(self.icon, (self.icon_h, self.icon_w), interpolation=cv2.INTER_AREA)"
   ]
  },
  {
   "cell_type": "code",
   "execution_count": 4,
   "id": "8de84c0d-8d00-4c9e-806e-4c2191f50a69",
   "metadata": {},
   "outputs": [],
   "source": [
    "class ChopperScape(Env):\n",
    "    def __init__(self):\n",
    "        super(ChopperScape, self).__init__()\n",
    "        \n",
    "        # Define a 2D observation space\n",
    "        self.observation_shape = (600, 800, 3)\n",
    "        self.observation_space = spaces.Box(low = np.zeros(self.observation_shape), \n",
    "                                            high = np.ones(self.observation_shape), \n",
    "                                            dtype = np.float16)\n",
    "        \n",
    "        # Define an action space ranging from 0 to 4 - maybe 6 - spaces.Discrete(6,)\n",
    "        # Changed from Discrete(6) to Discrete(5)\n",
    "        self.action_space = spaces.Discrete(5)\n",
    "        \n",
    "        # Create a canvas to render the environment images upon\n",
    "        self.canvas = np.ones(self.observation_shape) #* 1\n",
    "        \n",
    "        # Define elements present inside the environment\n",
    "        self.elements = []\n",
    "        \n",
    "        # Maximum fuel chopper can take at once\n",
    "        self.max_fuel = 1000\n",
    "        \n",
    "        # Permissable area of helicopter to be\n",
    "        self.y_min = int(self.observation_shape[0] * 0.1)\n",
    "        self.x_min = 0\n",
    "        self.y_max = int(self.observation_shape[0] * 0.9)\n",
    "        self.x_max = self.observation_shape[1]\n",
    "        \n",
    "        \n",
    "    def draw_elements_on_canvas(self):\n",
    "        # Init the canvas\n",
    "        self.canvas = np.ones(self.observation_shape) #* 1\n",
    "        \n",
    "        # Draw the helicopter on canvas\n",
    "        for elem in self.elements:\n",
    "            elem_shape = elem.icon.shape\n",
    "            x, y = elem.x, elem.y\n",
    "            self.canvas[y:y + elem_shape[1], x:x + elem_shape[0]] = elem.icon\n",
    "            \n",
    "        text = \"Fuel Left: {} | Rewards: {}\".format(self.fuel_left, self.ep_return)\n",
    "        \n",
    "        # Put the info on canvas\n",
    "        self.canvas = cv2.putText(self.canvas, text, (10,20), font, 0.8, (0,0,0), 1, cv2.LINE_AA)\n",
    "    \n",
    "    \n",
    "    def reset(self):\n",
    "        # Reset the fuel consumed\n",
    "        self.fuel_left = self.max_fuel\n",
    "        \n",
    "        # Reset the reward\n",
    "        self.ep_return = 0\n",
    "        \n",
    "        # Number of birds\n",
    "        self.bird_count = 0\n",
    "        self.fuel_count = 0\n",
    "        \n",
    "        # Determine a place to initialise the chopper in\n",
    "        x = random.randrange(int(self.observation_shape[0] * 0.05), int(self.observation_shape[0] * 0.10))\n",
    "        y = random.randrange(int(self.observation_shape[1] * 0.15), int(self.observation_shape[1] * 0.20))\n",
    "        \n",
    "        # Initialise the chopper\n",
    "        self.chopper = Chopper(\"chopper\", self.x_max, self.x_min, self.y_max, self.y_min)\n",
    "        self.chopper.set_position(x,y)\n",
    "        \n",
    "        # Initialise the elements\n",
    "        self.elements = [self.chopper]\n",
    "        \n",
    "        # Reset the canvas\n",
    "        self.canvas = np.ones(self.observation_shape) #* 1\n",
    "        \n",
    "        # Draw elements on the canvas\n",
    "        self.draw_elements_on_canvas()\n",
    "        \n",
    "        return self.canvas\n",
    "    \n",
    "    \n",
    "    def render(self, mode=\"human\"):\n",
    "        assert mode in [\"human\", \"rgb_array\"], \"Invalid mode, must be either \\\"human\\\" or \\\"rgb_array\\\"\"\n",
    "        if mode == \"human\":\n",
    "            cv2.imshow(\"Game\", self.canvas)\n",
    "            cv2.waitKey(10)\n",
    "        \n",
    "        elif mode == \"rgb_array\":\n",
    "            return self.canvas\n",
    "        \n",
    "        \n",
    "    def close(self):\n",
    "        cv2.destroyAllWindows()\n",
    "        \n",
    "        \n",
    "    def get_action_meanings(self):\n",
    "        return {0:\"Right\", 1:\"Left\", 2:\"Down\", 3:\"Up\", 4:\"Do Nothing\"}\n",
    "        \n",
    "        \n",
    "    def has_collided(self, elem1, elem2):\n",
    "        x_col = False\n",
    "        y_col = False\n",
    "        \n",
    "        elem1_x, elem1_y = elem1.get_position()\n",
    "        elem2_x, elem2_y = elem2.get_position()\n",
    "        \n",
    "        if 2 * abs(elem1_x - elem2_x) <= (elem1.icon_w + elem2.icon_w):\n",
    "            x_col = True\n",
    "            \n",
    "        if 2 * abs(elem1_y - elem2_y) <= (elem1.icon_h + elem2.icon_h):\n",
    "            y_col = True\n",
    "        \n",
    "        if x_col and y_col:\n",
    "            return True\n",
    "        else:\n",
    "            return False\n",
    "        \n",
    "        \n",
    "    def step(self, action):\n",
    "        # Flag that marks the termination of an episode\n",
    "        done = False\n",
    "        \n",
    "        # Assert that it is a valid action\n",
    "        assert self.action_space.contains(action), \"Invalid Action\"\n",
    "        \n",
    "        # Decrease the fuel counter\n",
    "        self.fuel_left = self.fuel_left - 1\n",
    "        \n",
    "        # Reward for executing a step\n",
    "        reward = 1\n",
    "        \n",
    "        # Apply the action to the chopper\n",
    "        if action == 0:\n",
    "            self.chopper.move(0,5)\n",
    "        elif action == 1:\n",
    "            self.chopper.move(0,-5)\n",
    "        elif action == 2:\n",
    "            self.chopper.move(5,0)\n",
    "        elif action == 3:\n",
    "            self.chopper.move(-5,0)\n",
    "        elif action == 4:\n",
    "            self.chopper.move(0,0)\n",
    "        \n",
    "        # Spawn a bird at the right edge with prob 0.01\n",
    "        if random.random() <= 0.01:\n",
    "            #Spawn a bird\n",
    "            spawned_bird = Bird(\"bird_{}\".format(self.bird_count), \n",
    "                                self.x_max, \n",
    "                                self.x_min, \n",
    "                                self.y_max, \n",
    "                                self.y_min)\n",
    "            \n",
    "            # Compute the x,y co-ordinates of the position from where the bird has to be spawned\n",
    "            # Horizontally, the position is on the right edge and vertically, the height is randomly \n",
    "            # sampled from the set of permissible values\n",
    "            bird_x = self.x_max\n",
    "            bird_y = random.randrange(self.y_min, self.y_max)\n",
    "            spawned_bird.set_position(self.x_max, bird_y)\n",
    "            \n",
    "            # Append the spawned bird to the elements currently present in Env\n",
    "            self.elements.append(spawned_bird)\n",
    "            \n",
    "        # Spawn a fuel at the bottom edge with prob 0.01\n",
    "        if random.random() <= 0.01:\n",
    "            # Spawn a fuel tank\n",
    "            spawned_fuel = Fuel(\"fuel_{}\".format(self.fuel_count), \n",
    "                                self.x_max, \n",
    "                                self.x_min, \n",
    "                                self.y_max, \n",
    "                                self.y_min)\n",
    "            \n",
    "            # Compute the x,y co-ordinates of the position from where the fuel tank has to be spawned\n",
    "            # Horizontally, the position is randomly chosen from the list of permissible values and \n",
    "            # vertically, the position is on the bottom edge\n",
    "            fuel_x = random.randrange(self.x_min, self.x_max)\n",
    "            fuel_y = self.y_max\n",
    "            spawned_fuel.set_position(fuel_x, fuel_y)\n",
    "            \n",
    "            # Append the spawned fuel tank to the elements currently present in Env\n",
    "            self.elements.append(spawned_fuel)\n",
    "            \n",
    "        # For elements in the Env\n",
    "        for elem in self.elements:\n",
    "            if isinstance(elem, Bird):\n",
    "                # If the bird has reached the left edge, remove it from the Env\n",
    "                if elem.get_position()[0] <= self.x_min:\n",
    "                    self.elements.remove(elem)\n",
    "                else:\n",
    "                    # Move the bird left by 5 points\n",
    "                    elem.move(-5,0)\n",
    "                    \n",
    "                # If the bird has collided\n",
    "                if self.has_collided(self.chopper, elem):\n",
    "                    # Conclude the episode and remove the chopper from the Env\n",
    "                    done = True\n",
    "                    reward = -10\n",
    "                    self.elements.remove(self.chopper)\n",
    "                    \n",
    "            if isinstance(elem, Fuel):\n",
    "                # If the fuel tank has reached the top, remove it from the Env\n",
    "                if elem.get_position()[1] <= self.y_min:\n",
    "                    self.elements.remove(elem)\n",
    "                else:\n",
    "                    # Move Fuel up by 5 points\n",
    "                    elem.move(0,-5)\n",
    "                \n",
    "                # If the fuel tank has collided with the chopper.\n",
    "                if self.has_collided(self.chopper, elem):\n",
    "                    # Remove the fuel tank from the env.\n",
    "                    self.elements.remove(elem)\n",
    "                    \n",
    "                    # Fill fuel tank of the chopper to full\n",
    "                    self.fuel_left = self.max_fuel\n",
    "                    \n",
    "        # Increment the episodic return\n",
    "        self.ep_return = self.ep_return + 1\n",
    "        \n",
    "        # Draw elements on the canvas\n",
    "        self.draw_elements_on_canvas()\n",
    "        \n",
    "        # If out of fuel, end the episode.\n",
    "        if self.fuel_left == 0:\n",
    "            done = True\n",
    "            \n",
    "        return self.canvas, reward, done, []"
   ]
  },
  {
   "cell_type": "code",
   "execution_count": 6,
   "id": "f4edb78c-8bf6-4b68-83d0-84ff417360aa",
   "metadata": {},
   "outputs": [],
   "source": [
    "from IPython import display\n",
    "\n",
    "env = ChopperScape()\n",
    "obs = env.reset()\n",
    "\n",
    "\n",
    "while True:\n",
    "    # Take a random action\n",
    "    action = env.action_space.sample()\n",
    "    obs, reward, done, info = env.step(action)\n",
    "    \n",
    "    # Render the game\n",
    "    env.render()\n",
    "    \n",
    "    if done == True:\n",
    "        break\n",
    "\n",
    "env.close()"
   ]
  },
  {
   "cell_type": "code",
   "execution_count": 8,
   "id": "4b182845-63a8-4010-bc22-a0722c32d62f",
   "metadata": {},
   "outputs": [
    {
     "data": {
      "text/plain": [
       "3"
      ]
     },
     "execution_count": 8,
     "metadata": {},
     "output_type": "execute_result"
    }
   ],
   "source": [
    "random.randrange(0,5)"
   ]
  },
  {
   "cell_type": "code",
   "execution_count": 6,
   "id": "bd9e0103-6208-4e03-9330-ef9796561393",
   "metadata": {},
   "outputs": [
    {
     "name": "stderr",
     "output_type": "stream",
     "text": [
      "C:\\Users\\areeb\\anaconda3\\envs\\msc_test\\lib\\site-packages\\gym\\spaces\\box.py:128: UserWarning: \u001b[33mWARN: Box bound precision lowered by casting to float16\u001b[0m\n",
      "  logger.warn(f\"Box bound precision lowered by casting to {self.dtype}\")\n",
      "C:\\Users\\areeb\\anaconda3\\envs\\msc_test\\lib\\site-packages\\gym\\core.py:52: DeprecationWarning: \u001b[33mWARN: The argument mode in render method is deprecated; use render_mode during environment initialization instead.\n",
      "See here for more information: https://www.gymlibrary.ml/content/api/\u001b[0m\n",
      "  \"The argument mode in render method is deprecated; \"\n"
     ]
    },
    {
     "data": {
      "image/png": "[encoded data removed]",
      "text/plain": [
       "<Figure size 432x288 with 1 Axes>"
      ]
     },
     "metadata": {
      "needs_background": "light"
     },
     "output_type": "display_data"
    }
   ],
   "source": [
    "env = ChopperScape()\n",
    "obs = env.reset()\n",
    "screen = env.render(mode = \"rgb_array\")\n",
    "plt.imshow(screen)\n",
    "plt.show()"
   ]
  },
  {
   "cell_type": "code",
   "execution_count": null,
   "id": "16eab279-2f45-44ad-80a0-c5b64e223c5d",
   "metadata": {},
   "outputs": [],
   "source": []
  },
  {
   "cell_type": "code",
   "execution_count": 39,
   "id": "ca874f85-56a0-4ce4-954d-b55939f65bfe",
   "metadata": {},
   "outputs": [
    {
     "data": {
      "text/plain": [
       "255"
      ]
     },
     "execution_count": 39,
     "metadata": {},
     "output_type": "execute_result"
    }
   ],
   "source": [
    "cv2.imread(\"custom_helicopter_images/chopper.png\")[:,:,1].max()"
   ]
  },
  {
   "cell_type": "code",
   "execution_count": 41,
   "id": "22d48446-46c1-414d-9d17-f18c6406f890",
   "metadata": {},
   "outputs": [
    {
     "data": {
      "text/plain": [
       "<matplotlib.image.AxesImage at 0x1c8ccda1c48>"
      ]
     },
     "execution_count": 41,
     "metadata": {},
     "output_type": "execute_result"
    },
    {
     "data": {
      "image/png": "[encoded data removed]",
      "text/plain": [
       "<Figure size 432x288 with 1 Axes>"
      ]
     },
     "metadata": {
      "needs_background": "light"
     },
     "output_type": "display_data"
    }
   ],
   "source": [
    "plt.imshow(cv2.imread(\"custom_helicopter_images/candy.png\"))"
   ]
  },
  {
   "cell_type": "code",
   "execution_count": 42,
   "id": "c008b383-c061-4c84-b59e-b1fec36e32a4",
   "metadata": {},
   "outputs": [
    {
     "name": "stderr",
     "output_type": "stream",
     "text": [
      "UsageError: Cell magic `%%add_to` not found.\n"
     ]
    }
   ],
   "source": [
    "%%add_to"
   ]
  }
 ],
 "metadata": {
  "kernelspec": {
   "display_name": "Python 3 (ipykernel)",
   "language": "python",
   "name": "python3"
  },
  "language_info": {
   "codemirror_mode": {
    "name": "ipython",
    "version": 3
   },
   "file_extension": ".py",
   "mimetype": "text/x-python",
   "name": "python",
   "nbconvert_exporter": "python",
   "pygments_lexer": "ipython3",
   "version": "3.7.11"
  }
 },
 "nbformat": 4,
 "nbformat_minor": 5
}
