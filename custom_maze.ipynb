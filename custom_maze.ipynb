{
 "cells": [
  {
   "cell_type": "code",
   "execution_count": 1,
   "id": "e150f6cb-703e-4cbf-a6cb-815a8705af7d",
   "metadata": {},
   "outputs": [],
   "source": [
    "import numpy as np\n",
    "import cv2\n",
    "import matplotlib.pyplot as plt\n",
    "import gym\n",
    "import random\n",
    "\n",
    "from gym import Env, spaces\n",
    "import time\n",
    "\n",
    "font = cv2.FONT_HERSHEY_COMPLEX_SMALL"
   ]
  },
  {
   "cell_type": "code",
   "execution_count": 2,
   "id": "d6a97015-3649-4c7b-bb59-a66b4a4dd58f",
   "metadata": {},
   "outputs": [],
   "source": [
    "class Point(object):\n",
    "    \"\"\"\n",
    "    \n",
    "    \"\"\"\n",
    "    \n",
    "    def __init__(self, name, x_min, x_max, y_min, y_max):\n",
    "        self.name = name\n",
    "        self.x_min = x_min\n",
    "        self.x_max = x_max\n",
    "        self.y_min = y_min\n",
    "        self.y_max = y_max\n",
    "        self.x = 0\n",
    "        self.y = 0\n",
    "        self.icon_width = 0\n",
    "        self.icon_height = 0\n",
    "        \n",
    "    def sensible_pos(self, pos, minimum, maximum):\n",
    "        return min(max(pos, maximum), minimum)\n",
    "    \n",
    "    def set_pos(self, x, y):\n",
    "        self.x = self.sensible_pos(x, self.x_min, self.x_max - self.icon_width)\n",
    "        self.y = self.sensible_pos(y, self.y_min, self.y_max - self.icon_height)\n",
    "        \n",
    "    def get_pos(self):\n",
    "        return (self.x, self.y)\n",
    "    \n",
    "    def move(self, translate_x, translate_y):\n",
    "        self.x = self.x + translate_x\n",
    "        self.y = self.y + translate_y\n",
    "        \n",
    "        self.x = self.sensible_pos(self.x, self.x_min, self.x_max - self.icon_width)\n",
    "        self.y = self.sensible_pos(self.y, self.y_min, self.y_max - self.icon_height)"
   ]
  },
  {
   "cell_type": "code",
   "execution_count": null,
   "id": "35df908c-992f-488c-b45e-16792a0c46f2",
   "metadata": {},
   "outputs": [],
   "source": [
    "class Agent(Point):\n",
    "    def __init__(self, name, x_min, x_max, y_min, y_max):\n",
    "        super(Agent, self).__init__(name, x_min, x_max, y_min, y_max)\n",
    "        self.icon = cv2.imread(\"...\")\n",
    "        self.icon_width = 10\n",
    "        self.icon_height = 10\n",
    "        self.icon = cv2.resize(self.icon, \n",
    "                               (self.icon_height, self.icon_width), \n",
    "                               interpolation=cv2.INTER_AREA)\n",
    "        \n",
    "\n",
    "class Barrier(Point):\n",
    "    "
   ]
  }
 ],
 "metadata": {
  "kernelspec": {
   "display_name": "Python 3 (ipykernel)",
   "language": "python",
   "name": "python3"
  },
  "language_info": {
   "codemirror_mode": {
    "name": "ipython",
    "version": 3
   },
   "file_extension": ".py",
   "mimetype": "text/x-python",
   "name": "python",
   "nbconvert_exporter": "python",
   "pygments_lexer": "ipython3",
   "version": "3.7.13"
  }
 },
 "nbformat": 4,
 "nbformat_minor": 5
}
