{
 "cells": [
  {
   "cell_type": "code",
   "execution_count": 1,
   "id": "8edb65af-84a4-4631-aa3e-340f0c067d2c",
   "metadata": {},
   "outputs": [],
   "source": [
    "import os\n",
    "import torch as T"
   ]
  },
  {
   "cell_type": "code",
   "execution_count": 42,
   "id": "dc2db006-f36a-44dc-8d0c-a97d7beea114",
   "metadata": {},
   "outputs": [
    {
     "data": {
      "text/plain": [
       "['actor_network.pth',\n",
       " 'critic_network_1.pth',\n",
       " 'critic_network_2.pth',\n",
       " 'target_value_network.pth',\n",
       " 'value_network.pth']"
      ]
     },
     "execution_count": 42,
     "metadata": {},
     "output_type": "execute_result"
    }
   ],
   "source": [
    "os.listdir(\"./hidio/hidio_scratch/network_checkpoints/sac/BipedalWalker-v3/backup/\")"
   ]
  },
  {
   "cell_type": "code",
   "execution_count": 37,
   "id": "2b6a6eb2-048f-41fa-b10d-df7442d12ab2",
   "metadata": {},
   "outputs": [
    {
     "name": "stdout",
     "output_type": "stream",
     "text": [
      "actor_network.pth\n",
      "critic_network_1.pth\n",
      "critic_network_2.pth\n",
      "target_value_network.pth\n",
      "value_network.pth\n"
     ]
    }
   ],
   "source": [
    "def transfer_hidden_weights(source_dir=\"./hidio/hidio_scratch/network_checkpoints/sac/InvertedPendulumBulletEnv-v0/backup/\", \n",
    "                            target_dir=\"./hidio/hidio_scratch/network_checkpoints/sac/InvertedDoublePendulumBulletEnv-v0/\", \n",
    "                            save_dir=\"./transfer_nets/\", \n",
    "                            params=['fc1.weight', 'fc1.bias', 'fc2.weight', 'fc2.bias']):\n",
    "    target_dir = target_dir\n",
    "    target_nets = os.listdir(target_dir)\n",
    "    target_nets = [net for net in target_nets if net.endswith(\".pth\")]\n",
    "    params = params\n",
    "\n",
    "    source_dir = source_dir\n",
    "    source_nets = os.listdir(source_dir)\n",
    "    source_nets = [net for net in source_nets if net.endswith(\".pth\")]\n",
    "\n",
    "    for net in source_nets:\n",
    "        print(net)\n",
    "        transfer_net = T.load(target_dir + net)\n",
    "        source_net = T.load(source_dir + net)\n",
    "\n",
    "        for param in params:\n",
    "            transfer_net[param] = source_net[param].clone()\n",
    "\n",
    "        T.save(transfer_net, save_dir + net)\n",
    "    \n",
    "    return\n",
    "\n",
    "transfer_hidden_weights()"
   ]
  },
  {
   "cell_type": "code",
   "execution_count": 39,
   "id": "02b0fc8e-25bb-455c-b408-ad504b70db55",
   "metadata": {},
   "outputs": [
    {
     "ename": "TypeError",
     "evalue": "_get_positional_kwargs() missing 1 required positional argument: 'dest'",
     "output_type": "error",
     "traceback": [
      "\u001b[1;31m---------------------------------------------------------------------------\u001b[0m",
      "\u001b[1;31mTypeError\u001b[0m                                 Traceback (most recent call last)",
      "\u001b[1;32m~\\AppData\\Local\\Temp\\ipykernel_46872\\2849338524.py\u001b[0m in \u001b[0;36m<module>\u001b[1;34m\u001b[0m\n\u001b[0;32m      3\u001b[0m \u001b[0mparser\u001b[0m \u001b[1;33m=\u001b[0m \u001b[0margparse\u001b[0m\u001b[1;33m.\u001b[0m\u001b[0mArgumentParser\u001b[0m\u001b[1;33m(\u001b[0m\u001b[1;33m)\u001b[0m\u001b[1;33m\u001b[0m\u001b[1;33m\u001b[0m\u001b[0m\n\u001b[0;32m      4\u001b[0m \u001b[1;33m\u001b[0m\u001b[0m\n\u001b[1;32m----> 5\u001b[1;33m \u001b[0mparser\u001b[0m\u001b[1;33m.\u001b[0m\u001b[0madd_argument\u001b[0m\u001b[1;33m(\u001b[0m\u001b[1;33m)\u001b[0m\u001b[1;33m\u001b[0m\u001b[1;33m\u001b[0m\u001b[0m\n\u001b[0m",
      "\u001b[1;32m~\\anaconda3\\envs\\mscHRL\\lib\\argparse.py\u001b[0m in \u001b[0;36madd_argument\u001b[1;34m(self, *args, **kwargs)\u001b[0m\n\u001b[0;32m   1339\u001b[0m             \u001b[1;32mif\u001b[0m \u001b[0margs\u001b[0m \u001b[1;32mand\u001b[0m \u001b[1;34m'dest'\u001b[0m \u001b[1;32min\u001b[0m \u001b[0mkwargs\u001b[0m\u001b[1;33m:\u001b[0m\u001b[1;33m\u001b[0m\u001b[1;33m\u001b[0m\u001b[0m\n\u001b[0;32m   1340\u001b[0m                 \u001b[1;32mraise\u001b[0m \u001b[0mValueError\u001b[0m\u001b[1;33m(\u001b[0m\u001b[1;34m'dest supplied twice for positional argument'\u001b[0m\u001b[1;33m)\u001b[0m\u001b[1;33m\u001b[0m\u001b[1;33m\u001b[0m\u001b[0m\n\u001b[1;32m-> 1341\u001b[1;33m             \u001b[0mkwargs\u001b[0m \u001b[1;33m=\u001b[0m \u001b[0mself\u001b[0m\u001b[1;33m.\u001b[0m\u001b[0m_get_positional_kwargs\u001b[0m\u001b[1;33m(\u001b[0m\u001b[1;33m*\u001b[0m\u001b[0margs\u001b[0m\u001b[1;33m,\u001b[0m \u001b[1;33m**\u001b[0m\u001b[0mkwargs\u001b[0m\u001b[1;33m)\u001b[0m\u001b[1;33m\u001b[0m\u001b[1;33m\u001b[0m\u001b[0m\n\u001b[0m\u001b[0;32m   1342\u001b[0m \u001b[1;33m\u001b[0m\u001b[0m\n\u001b[0;32m   1343\u001b[0m         \u001b[1;31m# otherwise, we're adding an optional argument\u001b[0m\u001b[1;33m\u001b[0m\u001b[1;33m\u001b[0m\u001b[1;33m\u001b[0m\u001b[0m\n",
      "\u001b[1;31mTypeError\u001b[0m: _get_positional_kwargs() missing 1 required positional argument: 'dest'"
     ]
    }
   ],
   "source": [
    "import argparse\n",
    "\n",
    "parser = argparse.ArgumentParser(description=\"Transfer weights of networks from source to target directory\")\n",
    "\n",
    "parser.add_argument(\"-s\", \"--source_dir\", type=str, metavar=\"\", required=True, help=\"Directory of the networks whose parameters will be transferred.\")\n",
    "parser.add_argument(\"-t\", \"--target_dir\", type=str, metavar=\"\", required=True, help\"Directory of the networks to which the parameters will be transferred.\")\n",
    "parser.add_argument(\"-S\", \"-save_dir\", type=str, metavar=\"\", required=True, help=\"\")\n",
    "args = parser.parse_args()"
   ]
  },
  {
   "cell_type": "raw",
   "id": "263fd26e-75ae-4927-8d8e-d55cb5391703",
   "metadata": {},
   "source": [
    "source_dir = \"./hidio/hidio_scratch/network_checkpoints/sac/InvertedPendulumBulletEnv-v0/backup/\"\n",
    "source_nets = os.listdir(source_dir)\n",
    "source_nets = [net for net in source_nets if net.endswith(\".pth\")]\n",
    "\n",
    "#for net in source_nets:\n",
    "#    print(T.load(source_dir + net)[params[0]])\n",
    "    \n",
    "for net in source_nets:\n",
    "    print(net)\n",
    "    transfer_net = T.load(target_dir + net)\n",
    "    source_net = T.load(source_dir + net)\n",
    "\n",
    "    for param in params:\n",
    "        transfer_net[param] = source_net[param].clone()\n",
    "        \n",
    "    T.save(transfer_net, \"./transfer_nets/\" + net)"
   ]
  },
  {
   "cell_type": "raw",
   "id": "0072f437-f711-4751-8f3a-6dabd305d430",
   "metadata": {},
   "source": [
    "T.load(\"./transfer_nets/actor_network.pth\")"
   ]
  }
 ],
 "metadata": {
  "kernelspec": {
   "display_name": "Python 3 (ipykernel)",
   "language": "python",
   "name": "python3"
  },
  "language_info": {
   "codemirror_mode": {
    "name": "ipython",
    "version": 3
   },
   "file_extension": ".py",
   "mimetype": "text/x-python",
   "name": "python",
   "nbconvert_exporter": "python",
   "pygments_lexer": "ipython3",
   "version": "3.7.13"
  }
 },
 "nbformat": 4,
 "nbformat_minor": 5
}
