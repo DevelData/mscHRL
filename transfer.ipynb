{
 "cells": [
  {
   "cell_type": "code",
   "execution_count": 1,
   "id": "8edb65af-84a4-4631-aa3e-340f0c067d2c",
   "metadata": {},
   "outputs": [],
   "source": [
    "import os\n",
    "import torch as T"
   ]
  },
  {
   "cell_type": "code",
   "execution_count": 42,
   "id": "dc2db006-f36a-44dc-8d0c-a97d7beea114",
   "metadata": {},
   "outputs": [
    {
     "data": {
      "text/plain": [
       "['actor_network.pth',\n",
       " 'critic_network_1.pth',\n",
       " 'critic_network_2.pth',\n",
       " 'target_value_network.pth',\n",
       " 'value_network.pth']"
      ]
     },
     "execution_count": 42,
     "metadata": {},
     "output_type": "execute_result"
    }
   ],
   "source": [
    "os.listdir(\"./hidio/hidio_scratch/network_checkpoints/sac/BipedalWalker-v3/backup/\")"
   ]
  },
  {
   "cell_type": "code",
   "execution_count": 37,
   "id": "2b6a6eb2-048f-41fa-b10d-df7442d12ab2",
   "metadata": {},
   "outputs": [
    {
     "name": "stdout",
     "output_type": "stream",
     "text": [
      "actor_network.pth\n",
      "critic_network_1.pth\n",
      "critic_network_2.pth\n",
      "target_value_network.pth\n",
      "value_network.pth\n"
     ]
    }
   ],
   "source": [
    "def transfer_hidden_weights(source_dir=\"./hidio/hidio_scratch/network_checkpoints/sac/InvertedPendulumBulletEnv-v0/backup/\", \n",
    "                            target_dir=\"./hidio/hidio_scratch/network_checkpoints/sac/InvertedDoublePendulumBulletEnv-v0/\", \n",
    "                            save_dir=\"./transfer_nets/\", \n",
    "                            params=['fc1.weight', 'fc1.bias', 'fc2.weight', 'fc2.bias']):\n",
    "    target_dir = target_dir\n",
    "    target_nets = os.listdir(target_dir)\n",
    "    target_nets = [net for net in target_nets if net.endswith(\".pth\")]\n",
    "    params = params\n",
    "\n",
    "    source_dir = source_dir\n",
    "    source_nets = os.listdir(source_dir)\n",
    "    source_nets = [net for net in source_nets if net.endswith(\".pth\")]\n",
    "\n",
    "    for net in source_nets:\n",
    "        print(net)\n",
    "        transfer_net = T.load(target_dir + net)\n",
    "        source_net = T.load(source_dir + net)\n",
    "\n",
    "        for param in params:\n",
    "            transfer_net[param] = source_net[param].clone()\n",
    "\n",
    "        T.save(transfer_net, save_dir + net)\n",
    "    \n",
    "    return\n",
    "\n",
    "transfer_hidden_weights()"
   ]
  },
  {
   "cell_type": "code",
   "execution_count": 63,
   "id": "02b0fc8e-25bb-455c-b408-ad504b70db55",
   "metadata": {},
   "outputs": [
    {
     "name": "stdout",
     "output_type": "stream",
     "text": [
      "torch.Size([256, 5])\n"
     ]
    },
    {
     "data": {
      "text/plain": [
       "torch.Size([256, 9])"
      ]
     },
     "execution_count": 63,
     "metadata": {},
     "output_type": "execute_result"
    }
   ],
   "source": [
    "source_dir = \"./hidio/hidio_scratch/network_checkpoints/sac/InvertedPendulumBulletEnv-v0/backup/\"\n",
    "source_nets = os.listdir(source_dir)\n",
    "source_nets = [net for net in source_nets if net.endswith(\".pth\")]\n",
    "\n",
    "target_dir = \"./hidio/hidio_scratch/network_checkpoints/sac/InvertedDoublePendulumBulletEnv-v0/\"\n",
    "target_nets = os.listdir(target_dir)\n",
    "target_nets = [net for net in target_nets if net.endswith(\".pth\")]\n",
    "\n",
    "print(T.load(source_dir + source_nets[0])[\"fc1.weight\"].shape)\n",
    "T.cat([T.load(source_dir + source_nets[0])[\"fc1.weight\"].cpu(), T.rand(256,4)], axis=1).shape"
   ]
  },
  {
   "cell_type": "code",
   "execution_count": 71,
   "id": "850651ae-4704-427e-8984-1351eb8677e5",
   "metadata": {},
   "outputs": [
    {
     "data": {
      "text/plain": [
       "1"
      ]
     },
     "execution_count": 71,
     "metadata": {},
     "output_type": "execute_result"
    }
   ],
   "source": [
    "len(T.load(source_dir + source_nets[0])[\"fc1.bias\"].shape)"
   ]
  },
  {
   "cell_type": "code",
   "execution_count": 51,
   "id": "e4ef7571-a39c-43cc-b5c3-1944dad4ae99",
   "metadata": {},
   "outputs": [
    {
     "name": "stdout",
     "output_type": "stream",
     "text": [
      "torch.Size([256, 9])\n"
     ]
    },
    {
     "data": {
      "text/plain": [
       "tensor([[ 0.3789,  0.0823, -0.1011,  ..., -0.1365, -0.4116, -0.0440],\n",
       "        [ 0.1245, -0.4635, -0.2419,  ..., -0.0665,  0.0236,  0.4476],\n",
       "        [ 0.0380,  0.1625, -0.1181,  ...,  0.1575, -0.5863, -0.3417],\n",
       "        ...,\n",
       "        [ 0.1667,  0.3331,  0.1446,  ..., -0.3437,  0.2178,  0.0826],\n",
       "        [ 0.2309, -0.2007, -0.4268,  ...,  0.2702,  0.3595, -0.0683],\n",
       "        [ 0.2267,  0.4322,  0.0097,  ...,  0.0243,  0.2728,  0.1123]],\n",
       "       device='cuda:0')"
      ]
     },
     "execution_count": 51,
     "metadata": {},
     "output_type": "execute_result"
    }
   ],
   "source": [
    "print(T.load(target_dir + target_nets[0])[\"fc1.weight\"].shape)\n",
    "T.load(target_dir + target_nets[0])[\"fc1.weight\"]"
   ]
  },
  {
   "cell_type": "code",
   "execution_count": 4,
   "id": "481d549b-ec3c-400b-9c1a-580e45ef8823",
   "metadata": {},
   "outputs": [
    {
     "data": {
      "text/plain": [
       "torch.Size([256, 24])"
      ]
     },
     "execution_count": 4,
     "metadata": {},
     "output_type": "execute_result"
    }
   ],
   "source": [
    "T.load(\"./transfer_nets/actor_network.pth\")[\"fc1.weight\"].shape"
   ]
  },
  {
   "cell_type": "raw",
   "id": "263fd26e-75ae-4927-8d8e-d55cb5391703",
   "metadata": {},
   "source": [
    "source_dir = \"./hidio/hidio_scratch/network_checkpoints/sac/InvertedPendulumBulletEnv-v0/backup/\"\n",
    "source_nets = os.listdir(source_dir)\n",
    "source_nets = [net for net in source_nets if net.endswith(\".pth\")]\n",
    "\n",
    "#for net in source_nets:\n",
    "#    print(T.load(source_dir + net)[params[0]])\n",
    "    \n",
    "for net in source_nets:\n",
    "    print(net)\n",
    "    transfer_net = T.load(target_dir + net)\n",
    "    source_net = T.load(source_dir + net)\n",
    "\n",
    "    for param in params:\n",
    "        transfer_net[param] = source_net[param].clone()\n",
    "        \n",
    "    T.save(transfer_net, \"./transfer_nets/\" + net)"
   ]
  },
  {
   "cell_type": "raw",
   "id": "0072f437-f711-4751-8f3a-6dabd305d430",
   "metadata": {},
   "source": [
    "T.load(\"./transfer_nets/actor_network.pth\")"
   ]
  }
 ],
 "metadata": {
  "kernelspec": {
   "display_name": "Python 3 (ipykernel)",
   "language": "python",
   "name": "python3"
  },
  "language_info": {
   "codemirror_mode": {
    "name": "ipython",
    "version": 3
   },
   "file_extension": ".py",
   "mimetype": "text/x-python",
   "name": "python",
   "nbconvert_exporter": "python",
   "pygments_lexer": "ipython3",
   "version": "3.7.13"
  }
 },
 "nbformat": 4,
 "nbformat_minor": 5
}
