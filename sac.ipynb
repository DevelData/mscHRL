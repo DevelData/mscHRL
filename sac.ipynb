{
 "cells": [
  {
   "cell_type": "code",
   "execution_count": 1,
   "id": "d316e235-308a-442b-a951-eaf2f8b7db8b",
   "metadata": {},
   "outputs": [
    {
     "name": "stderr",
     "output_type": "stream",
     "text": [
      "C:\\Users\\areeb\\anaconda3\\envs\\msc_test\\lib\\site-packages\\tqdm\\auto.py:22: TqdmWarning: IProgress not found. Please update jupyter and ipywidgets. See https://ipywidgets.readthedocs.io/en/stable/user_install.html\n",
      "  from .autonotebook import tqdm as notebook_tqdm\n",
      "C:\\Users\\areeb\\anaconda3\\envs\\msc_test\\lib\\site-packages\\gym\\envs\\registration.py:424: UserWarning: \u001b[33mWARN: Custom namespace `ALE` is being overridden by namespace `ALE`. If you are developing a plugin you shouldn't specify a namespace in `register` calls. The namespace is specified through the entry point package metadata.\u001b[0m\n",
      "  f\"Custom namespace `{spec.namespace}` is being overridden \"\n"
     ]
    }
   ],
   "source": [
    "import gin\n",
    "import copy\n",
    "import numpy as np\n",
    "import os\n",
    "\n",
    "\n",
    "import torch as T\n",
    "import torch.nn as nn\n",
    "import torch.nn.functional as F\n",
    "from collections import namedtuple, OrderedDict\n",
    "import gym"
   ]
  },
  {
   "cell_type": "code",
   "execution_count": 2,
   "id": "2d3a3ffe-f650-4d4f-98c2-33ceed4f9b08",
   "metadata": {},
   "outputs": [
    {
     "data": {
      "text/plain": [
       "-2.0"
      ]
     },
     "execution_count": 2,
     "metadata": {},
     "output_type": "execute_result"
    }
   ],
   "source": [
    "-T.prod(T.Tensor([1 - -1])).item()"
   ]
  },
  {
   "cell_type": "code",
   "execution_count": 2,
   "id": "975754e5-1bba-4f25-b96a-8ae9391ac22d",
   "metadata": {},
   "outputs": [
    {
     "name": "stdout",
     "output_type": "stream",
     "text": [
      "2096786912624\n",
      "[False False False False False False False False False False False False\n",
      " False False False False False False False False False False False False\n",
      " False]\n",
      "2096912455312\n"
     ]
    }
   ],
   "source": [
    "new_var = np.zeros(shape=5*5, dtype=np.bool8)\n",
    "print(id(new_var))\n",
    "print(new_var)\n",
    "print(id(copy.deepcopy(new_var)))\n",
    "#np.random.choice()"
   ]
  },
  {
   "cell_type": "code",
   "execution_count": 3,
   "id": "551ec6e2-4054-4a23-8731-4a5e8a19fe49",
   "metadata": {},
   "outputs": [
    {
     "data": {
      "text/plain": [
       "tensor([[5.5752, 9.5798],\n",
       "        [5.3403, 1.8785],\n",
       "        [6.1815, 7.7760],\n",
       "        [5.1460, 9.6013],\n",
       "        [6.0018, 1.0342],\n",
       "        [5.3227, 4.4346],\n",
       "        [6.5526, 1.2453],\n",
       "        [7.1164, 7.6307],\n",
       "        [4.0660, 3.2582],\n",
       "        [1.8155, 7.8848]], dtype=torch.float64)"
      ]
     },
     "execution_count": 3,
     "metadata": {},
     "output_type": "execute_result"
    }
   ],
   "source": [
    "T.tensor(np.random.uniform(1,10, size=(10,2)))"
   ]
  },
  {
   "cell_type": "code",
   "execution_count": 4,
   "id": "9666c1d5-d552-4b49-93f5-f73f19dc0c2a",
   "metadata": {},
   "outputs": [
    {
     "data": {
      "text/plain": [
       "tensor([[ -7.1365],\n",
       "        [-58.4622]])"
      ]
     },
     "execution_count": 4,
     "metadata": {},
     "output_type": "execute_result"
    }
   ],
   "source": [
    "T.distributions.Normal(1,5).log_prob(T.tensor([[-5.8852, 8.522], [52.65,2.596]])).sum(1, keepdim=True)"
   ]
  },
  {
   "cell_type": "code",
   "execution_count": 5,
   "id": "53541a9a-dd68-4dff-9467-52ec658dd2e9",
   "metadata": {},
   "outputs": [
    {
     "name": "stdout",
     "output_type": "stream",
     "text": [
      "(4,)\n",
      "(1, 4)\n"
     ]
    },
    {
     "data": {
      "text/plain": [
       "2.5"
      ]
     },
     "execution_count": 5,
     "metadata": {},
     "output_type": "execute_result"
    }
   ],
   "source": [
    "skill = np.array([1,2,3,4])#.reshape(1,-1)\n",
    "obs = np.array([1,3,5,2]).reshape(1,-1)\n",
    "\n",
    "print(skill.shape)\n",
    "print(obs.shape)\n",
    "\n",
    "T.tensor(skill, dtype=T.float32).mean().item()"
   ]
  },
  {
   "cell_type": "code",
   "execution_count": 28,
   "id": "579d357e-13da-408c-acbf-b740d5347727",
   "metadata": {},
   "outputs": [
    {
     "data": {
      "image/png": "[encoded data removed]",
      "text/plain": [
       "<Figure size 432x288 with 1 Axes>"
      ]
     },
     "metadata": {
      "needs_background": "light"
     },
     "output_type": "display_data"
    }
   ],
   "source": []
  },
  {
   "cell_type": "code",
   "execution_count": 26,
   "id": "39344f96-a3ad-43da-b5df-e73c65594580",
   "metadata": {},
   "outputs": [
    {
     "data": {
      "text/plain": [
       "[1, 2, 3, 4, 5, 6, 7]"
      ]
     },
     "execution_count": 26,
     "metadata": {},
     "output_type": "execute_result"
    }
   ],
   "source": [
    "some_var_load"
   ]
  },
  {
   "cell_type": "code",
   "execution_count": 6,
   "id": "fd039203-28f2-4663-adfa-1c445f82d892",
   "metadata": {},
   "outputs": [
    {
     "data": {
      "text/plain": [
       "10.666667"
      ]
     },
     "execution_count": 6,
     "metadata": {},
     "output_type": "execute_result"
    }
   ],
   "source": [
    "a = np.array([1,2,3], dtype=np.float32).reshape(1,3)\n",
    "b = np.array([4,5,6], dtype=np.float32).reshape(1,3)\n",
    "(a*b).mean().sum()"
   ]
  },
  {
   "cell_type": "code",
   "execution_count": 7,
   "id": "b96c34e9-fc96-4885-b96e-b3834065baa3",
   "metadata": {},
   "outputs": [
    {
     "data": {
      "text/plain": [
       "tensor(-1.4013e-45)"
      ]
     },
     "execution_count": 7,
     "metadata": {},
     "output_type": "execute_result"
    }
   ],
   "source": [
    "-T.prod(T.Tensor(T.tensor(1).shape))#.item()"
   ]
  },
  {
   "cell_type": "code",
   "execution_count": 8,
   "id": "f7d5a5ee-d12d-40f0-b7b5-4aecd3707fa0",
   "metadata": {},
   "outputs": [
    {
     "data": {
      "text/plain": [
       "tensor([1.])"
      ]
     },
     "execution_count": 8,
     "metadata": {},
     "output_type": "execute_result"
    }
   ],
   "source": [
    "T.Tensor([1])"
   ]
  },
  {
   "cell_type": "code",
   "execution_count": 9,
   "id": "e4924332-ce07-4aa3-ab8e-169444633333",
   "metadata": {},
   "outputs": [
    {
     "data": {
      "text/plain": [
       "torch.Size([10, 5])"
      ]
     },
     "execution_count": 9,
     "metadata": {},
     "output_type": "execute_result"
    }
   ],
   "source": [
    "T.rand((10,3,5))[:,0,:].shape"
   ]
  },
  {
   "cell_type": "code",
   "execution_count": 10,
   "id": "45101b73-eef1-4605-a1a3-73dbc9903917",
   "metadata": {},
   "outputs": [],
   "source": [
    "import argparse\n",
    "parser = argparse.ArgumentParser()\n",
    "#parser.add_argument()"
   ]
  },
  {
   "cell_type": "code",
   "execution_count": 11,
   "id": "36bd18e2-98c2-4b4d-87c9-5a2714e1557c",
   "metadata": {},
   "outputs": [
    {
     "ename": "RuntimeError",
     "evalue": "No CUDA GPUs are available",
     "output_type": "error",
     "traceback": [
      "\u001b[1;31m---------------------------------------------------------------------------\u001b[0m",
      "\u001b[1;31mRuntimeError\u001b[0m                              Traceback (most recent call last)",
      "\u001b[1;32m~\\AppData\\Local\\Temp\\ipykernel_27152\\2078839572.py\u001b[0m in \u001b[0;36m<module>\u001b[1;34m\u001b[0m\n\u001b[1;32m----> 1\u001b[1;33m \u001b[0mT\u001b[0m\u001b[1;33m.\u001b[0m\u001b[0mzeros\u001b[0m\u001b[1;33m(\u001b[0m\u001b[1;36m1\u001b[0m\u001b[1;33m)\u001b[0m\u001b[1;33m.\u001b[0m\u001b[0mcuda\u001b[0m\u001b[1;33m(\u001b[0m\u001b[1;33m)\u001b[0m\u001b[1;33m\u001b[0m\u001b[1;33m\u001b[0m\u001b[0m\n\u001b[0m",
      "\u001b[1;32m~\\anaconda3\\envs\\msc_test\\lib\\site-packages\\torch\\cuda\\__init__.py\u001b[0m in \u001b[0;36m_lazy_init\u001b[1;34m()\u001b[0m\n\u001b[0;32m    215\u001b[0m         \u001b[1;31m# This function throws if there's a driver initialization error, no GPUs\u001b[0m\u001b[1;33m\u001b[0m\u001b[1;33m\u001b[0m\u001b[1;33m\u001b[0m\u001b[0m\n\u001b[0;32m    216\u001b[0m         \u001b[1;31m# are found or any other error occurs\u001b[0m\u001b[1;33m\u001b[0m\u001b[1;33m\u001b[0m\u001b[1;33m\u001b[0m\u001b[0m\n\u001b[1;32m--> 217\u001b[1;33m         \u001b[0mtorch\u001b[0m\u001b[1;33m.\u001b[0m\u001b[0m_C\u001b[0m\u001b[1;33m.\u001b[0m\u001b[0m_cuda_init\u001b[0m\u001b[1;33m(\u001b[0m\u001b[1;33m)\u001b[0m\u001b[1;33m\u001b[0m\u001b[1;33m\u001b[0m\u001b[0m\n\u001b[0m\u001b[0;32m    218\u001b[0m         \u001b[1;31m# Some of the queued calls may reentrantly call _lazy_init();\u001b[0m\u001b[1;33m\u001b[0m\u001b[1;33m\u001b[0m\u001b[1;33m\u001b[0m\u001b[0m\n\u001b[0;32m    219\u001b[0m         \u001b[1;31m# we need to just return without initializing in that case.\u001b[0m\u001b[1;33m\u001b[0m\u001b[1;33m\u001b[0m\u001b[1;33m\u001b[0m\u001b[0m\n",
      "\u001b[1;31mRuntimeError\u001b[0m: No CUDA GPUs are available"
     ]
    }
   ],
   "source": [
    "T.zeros(1).cuda()"
   ]
  },
  {
   "cell_type": "code",
   "execution_count": 16,
   "id": "2b6cd22d-106f-4379-ac9d-a5135e1e830b",
   "metadata": {},
   "outputs": [
    {
     "data": {
      "text/plain": [
       "False"
      ]
     },
     "execution_count": 16,
     "metadata": {},
     "output_type": "execute_result"
    }
   ],
   "source": [
    "T.cuda.is_available()"
   ]
  },
  {
   "cell_type": "code",
   "execution_count": 26,
   "id": "732aa898-33ba-4feb-807c-e9f2071b72dd",
   "metadata": {},
   "outputs": [
    {
     "data": {
      "text/plain": [
       "<__main__.testClass at 0x19f88e96bc8>"
      ]
     },
     "execution_count": 26,
     "metadata": {},
     "output_type": "execute_result"
    }
   ],
   "source": [
    "from pathlib import Path\n",
    "class testClass(object):\n",
    "    def __init__(self, a, b):\n",
    "        self.a = a\n",
    "        self.b = b\n",
    "        self.c = a + b\n",
    "        \n",
    "        Path(self.c).mkdir(parents=True, exist_ok=True)\n",
    "        \n",
    "testClass(a=\"./test/\", b=\"test\")"
   ]
  },
  {
   "cell_type": "code",
   "execution_count": 27,
   "id": "f4082805-4279-4567-98f6-ad9654f24550",
   "metadata": {},
   "outputs": [
    {
     "data": {
      "text/plain": [
       "array([ 1,  2,  3,  4,  5,  6,  7,  8,  9, 10, 11, 12, 13, 14, 15, 16, 17,\n",
       "       18, 19, 20, 21, 22, 23, 24, 25, 26, 27, 28, 29, 30, 31, 32, 33, 34,\n",
       "       35, 36, 37, 38, 39, 40, 41, 42, 43, 44, 45, 46, 47, 48, 49, 50, 51,\n",
       "       52, 53, 54, 55, 56, 57, 58, 59, 60, 61, 62, 63, 64, 65, 66, 67, 68,\n",
       "       69, 70, 71, 72, 73, 74, 75, 76, 77, 78, 79, 80, 81, 82, 83, 84, 85,\n",
       "       86, 87, 88, 89, 90, 91, 92, 93, 94, 95, 96, 97, 98, 99])"
      ]
     },
     "execution_count": 27,
     "metadata": {},
     "output_type": "execute_result"
    }
   ],
   "source": [
    "np.ma.average(np.arange(1,100)"
   ]
  },
  {
   "cell_type": "raw",
   "id": "cdbeaf54-4dba-4821-b909-48df5cbee3cb",
   "metadata": {},
   "source": [
    "from gym import envs\n",
    "all_envs = envs.registry.all()\n",
    "env_ids = [env_spec.id for env_spec in all_envs]\n",
    "print(sorted(env_ids))"
   ]
  },
  {
   "cell_type": "code",
   "execution_count": 5,
   "id": "d5367ecf-ee8d-451f-a2d8-097c11f078fb",
   "metadata": {},
   "outputs": [
    {
     "name": "stdout",
     "output_type": "stream",
     "text": [
      "1\n",
      "5\n",
      "15\n"
     ]
    }
   ],
   "source": [
    "class ClassOne(object):\n",
    "    def __init__(self, a=1):\n",
    "        self.a = a\n",
    "        \n",
    "    def mult(self, b):\n",
    "        return self.a * b\n",
    "\n",
    "class ClassTwo(ClassOne):\n",
    "    def __init__(self, a):\n",
    "        super(ClassTwo, self).__init__(a)\n",
    "        \n",
    "original_class = ClassOne()\n",
    "new_class = ClassTwo(a=5)\n",
    "print(original_class.a)\n",
    "print(new_class.a)\n",
    "print(new_class.mult(3))"
   ]
  },
  {
   "cell_type": "code",
   "execution_count": 6,
   "id": "dc2631ac-fbb0-43bb-b8dd-08a5f96b12eb",
   "metadata": {},
   "outputs": [
    {
     "data": {
      "text/plain": [
       "tensor([ 2.3897,  0.3079,  1.2403,  1.0650, -1.9986])"
      ]
     },
     "execution_count": 6,
     "metadata": {},
     "output_type": "execute_result"
    }
   ],
   "source": [
    "T.distributions.normal.Normal(T.tensor([1,2,1,3,1], dtype=T.float32), T.tensor([1,2,2,2,2], dtype=T.float32)).rsample()"
   ]
  },
  {
   "cell_type": "code",
   "execution_count": 7,
   "id": "ebb1d1b8-ddc1-4b24-b82b-2bb9eb25dfc5",
   "metadata": {},
   "outputs": [
    {
     "data": {
      "text/plain": [
       "tensor([[-1.4972e-26],\n",
       "        [-5.3997e-22],\n",
       "        [ 8.4078e-45],\n",
       "        [ 0.0000e+00],\n",
       "        [ 0.0000e+00],\n",
       "        [ 0.0000e+00],\n",
       "        [ 1.4013e-45],\n",
       "        [ 0.0000e+00],\n",
       "        [ 0.0000e+00],\n",
       "        [ 0.0000e+00]])"
      ]
     },
     "execution_count": 7,
     "metadata": {},
     "output_type": "execute_result"
    }
   ],
   "source": [
    "T.Tensor(10,3).sum(dim=1, keepdim=True)"
   ]
  },
  {
   "cell_type": "code",
   "execution_count": 8,
   "id": "50cb7a6f-7c50-4713-99f0-5cd686dd3cf7",
   "metadata": {},
   "outputs": [
    {
     "data": {
      "text/plain": [
       "tensor(0.0177)"
      ]
     },
     "execution_count": 8,
     "metadata": {},
     "output_type": "execute_result"
    }
   ],
   "source": [
    "F.mse_loss(T.rand((10,1)), T.rand((10,1))).pow(2)"
   ]
  },
  {
   "cell_type": "code",
   "execution_count": 9,
   "id": "924698ee-5206-4e8f-add0-242f5040c70a",
   "metadata": {},
   "outputs": [
    {
     "name": "stdout",
     "output_type": "stream",
     "text": [
      "[100.          95.95        92.055       88.309625    84.70865\n",
      "  81.24699844  77.91974041  74.72209068  71.64940658  68.69718566]\n"
     ]
    }
   ],
   "source": [
    "#np.random.uniform(1, 100, 10) * \n",
    "a = np.power(np.full(10, 0.95), [i for i in range(10)]) * np.arange(100, 110)\n",
    "print(a)"
   ]
  },
  {
   "cell_type": "code",
   "execution_count": 10,
   "id": "ade99fa1-482a-4345-80c8-56fef3a32245",
   "metadata": {},
   "outputs": [
    {
     "data": {
      "text/plain": [
       "tensor([[0.2793]])"
      ]
     },
     "execution_count": 10,
     "metadata": {},
     "output_type": "execute_result"
    }
   ],
   "source": [
    "T.manual_seed(1)\n",
    "T.rand((1,2))[:,1].unsqueeze(dim=1)#.reshape(10,-1).shape"
   ]
  },
  {
   "cell_type": "code",
   "execution_count": 35,
   "id": "63c802a2-5b0c-4370-b396-bd1cb3ced172",
   "metadata": {},
   "outputs": [
    {
     "data": {
      "text/plain": [
       "tensor([[0., 0., 0., 0., 0., 1.],\n",
       "        [0., 0., 0., 0., 0., 1.],\n",
       "        [0., 0., 0., 0., 0., 1.],\n",
       "        [0., 0., 0., 0., 0., 1.],\n",
       "        [0., 0., 0., 0., 0., 1.],\n",
       "        [0., 0., 0., 0., 0., 1.],\n",
       "        [0., 0., 0., 0., 0., 1.],\n",
       "        [0., 0., 0., 0., 0., 1.],\n",
       "        [0., 0., 0., 0., 0., 1.],\n",
       "        [0., 0., 0., 0., 0., 1.],\n",
       "        [0., 0., 0., 0., 0., 1.],\n",
       "        [0., 0., 0., 0., 0., 1.],\n",
       "        [0., 0., 0., 0., 0., 1.],\n",
       "        [0., 0., 0., 0., 0., 1.],\n",
       "        [0., 0., 0., 0., 0., 1.],\n",
       "        [0., 0., 0., 0., 0., 1.],\n",
       "        [0., 0., 0., 0., 0., 1.],\n",
       "        [0., 0., 0., 0., 0., 1.],\n",
       "        [0., 0., 0., 0., 0., 1.],\n",
       "        [0., 0., 0., 0., 0., 1.],\n",
       "        [0., 0., 0., 0., 0., 1.],\n",
       "        [0., 0., 0., 0., 0., 1.],\n",
       "        [0., 0., 0., 0., 0., 1.],\n",
       "        [0., 0., 0., 0., 0., 1.],\n",
       "        [0., 0., 0., 0., 0., 1.]], dtype=torch.float64)"
      ]
     },
     "execution_count": 35,
     "metadata": {},
     "output_type": "execute_result"
    }
   ],
   "source": [
    "T.cat([T.tensor(np.zeros([25,5])), T.tensor(np.ones([25,1]))], dim=1)"
   ]
  },
  {
   "cell_type": "code",
   "execution_count": 12,
   "id": "e1871965-5bcd-4cde-853f-c27b5cceead1",
   "metadata": {},
   "outputs": [
    {
     "data": {
      "text/plain": [
       "array([[0., 0., 0.],\n",
       "       [0., 0., 0.],\n",
       "       [0., 0., 0.],\n",
       "       [0., 0., 0.],\n",
       "       [0., 0., 0.]])"
      ]
     },
     "execution_count": 12,
     "metadata": {},
     "output_type": "execute_result"
    }
   ],
   "source": [
    "a = np.zeros(shape=(10,5,3))\n",
    "#a[0] = np.zeros(shape=(5,3)) + 2\n",
    "a[0]"
   ]
  },
  {
   "cell_type": "code",
   "execution_count": 23,
   "id": "6cb1de75-e10f-4122-b7aa-4118df723f2f",
   "metadata": {},
   "outputs": [
    {
     "name": "stdout",
     "output_type": "stream",
     "text": [
      "torch.Size([10, 2])\n"
     ]
    }
   ],
   "source": [
    "class fakeNet(nn.Module):\n",
    "    def __init__(self):\n",
    "        super(fakeNet, self).__init__()\n",
    "        self.layer1 = nn.Linear(44, 256)\n",
    "        self.layer2 = nn.Linear(256, 2)\n",
    "        \n",
    "    def forward(self, x):\n",
    "        x = F.relu(self.layer1(x))\n",
    "        x = F.relu(self.layer2(x))\n",
    "        return x\n",
    "    \n",
    "fake_model = fakeNet()\n",
    "\n",
    "ans = fake_model.forward(T.Tensor(10,44))\n",
    "print(ans.shape)\n",
    "#print(ans1, ans2)\n",
    "#print(ans.sum(1, keepdim=True).shape)"
   ]
  },
  {
   "cell_type": "code",
   "execution_count": 31,
   "id": "d02dd899-bf17-4c39-95e0-d3d7ac2dcf48",
   "metadata": {},
   "outputs": [
    {
     "data": {
      "text/plain": [
       "(10, 1)"
      ]
     },
     "execution_count": 31,
     "metadata": {},
     "output_type": "execute_result"
    }
   ],
   "source": [
    "np.full(np.ones((10,1)).shape, 5).shape"
   ]
  },
  {
   "cell_type": "code",
   "execution_count": 33,
   "id": "c763da2a-37fa-4822-8863-1c854f8c9854",
   "metadata": {},
   "outputs": [
    {
     "ename": "SyntaxError",
     "evalue": "invalid syntax (3147975202.py, line 1)",
     "output_type": "error",
     "traceback": [
      "\u001b[1;36m  File \u001b[1;32m\"C:\\Users\\areeb\\AppData\\Local\\Temp\\ipykernel_26620\\3147975202.py\"\u001b[1;36m, line \u001b[1;32m1\u001b[0m\n\u001b[1;33m    T.ones((10,1)) .* T.ones((10,1))\u001b[0m\n\u001b[1;37m                    ^\u001b[0m\n\u001b[1;31mSyntaxError\u001b[0m\u001b[1;31m:\u001b[0m invalid syntax\n"
     ]
    }
   ],
   "source": [
    "T.distributions.categorical.Categorical()"
   ]
  },
  {
   "cell_type": "code",
   "execution_count": 56,
   "id": "fdf7dcc4-287e-4dd2-b883-7f48a1e1c92e",
   "metadata": {},
   "outputs": [
    {
     "data": {
      "text/plain": [
       "tensor(25.)"
      ]
     },
     "execution_count": 56,
     "metadata": {},
     "output_type": "execute_result"
    }
   ],
   "source": [
    "F.mse_loss(T.ones(5,6)*6, T.ones(5,6), reduction=\"mean\")"
   ]
  },
  {
   "cell_type": "code",
   "execution_count": 173,
   "id": "7d29b7d1-941d-449a-85f0-cb64400ae32f",
   "metadata": {},
   "outputs": [
    {
     "name": "stdout",
     "output_type": "stream",
     "text": [
      "torch.Size([5, 3, 2])\n",
      "tensor([[ 4, 11],\n",
      "        [17, 14],\n",
      "        [16, 14],\n",
      "        [12, 10],\n",
      "        [16,  9]], dtype=torch.int32)\n",
      "tensor([[ 4, 11],\n",
      "        [17, 14],\n",
      "        [16, 14],\n",
      "        [12, 10],\n",
      "        [16,  9]], dtype=torch.int32)\n",
      "tensor([[ 0, 19],\n",
      "        [14,  1],\n",
      "        [11, 14],\n",
      "        [19,  7],\n",
      "        [10,  2]], dtype=torch.int32)\n",
      "tensor([[ 0, 19],\n",
      "        [14,  1],\n",
      "        [11, 14],\n",
      "        [19,  7],\n",
      "        [10,  2]], dtype=torch.int32)\n",
      "tensor([[ 1, 19],\n",
      "        [11, 19],\n",
      "        [ 7, 17],\n",
      "        [15,  9],\n",
      "        [13, 15]], dtype=torch.int32)\n",
      "tensor([[ 1, 19],\n",
      "        [11, 19],\n",
      "        [ 7, 17],\n",
      "        [15,  9],\n",
      "        [13, 15]], dtype=torch.int32)\n"
     ]
    }
   ],
   "source": [
    "a = T.tensor(np.random.choice(20, (5,3,2)))\n",
    "b = T.ones((5,3,1), dtype=bool)\n",
    "print(a.shape)\n",
    "for i in range(3):\n",
    "    print(a[:,i,:])\n",
    "    print(a[:,i,:][b[:,i,:].view(-1)])"
   ]
  },
  {
   "cell_type": "code",
   "execution_count": 135,
   "id": "363f1e91-28bd-489d-be82-4bf4056dcbff",
   "metadata": {},
   "outputs": [
    {
     "data": {
      "text/plain": [
       "tensor([[0.3399, 0.9090, 0.3230],\n",
       "        [0.0613, 0.7501, 0.4535],\n",
       "        [0.7158, 0.0560, 0.5530],\n",
       "        [0.2295, 0.6185, 0.8744],\n",
       "        [0.4871, 0.5314, 0.2471],\n",
       "        [0.1565, 0.0626, 0.7497],\n",
       "        [0.8942, 0.9196, 0.2524],\n",
       "        [0.2747, 0.5980, 0.3266],\n",
       "        [0.1742, 0.9255, 0.4540],\n",
       "        [0.2809, 0.8862, 0.2043]], requires_grad=True)"
      ]
     },
     "execution_count": 135,
     "metadata": {},
     "output_type": "execute_result"
    }
   ],
   "source": [
    "a = T.rand(10,3, requires_grad=True)\n",
    "a.data[a.data.eq(0)] = 55\n",
    "a"
   ]
  },
  {
   "cell_type": "code",
   "execution_count": 32,
   "id": "6e977b0e-0c6d-4bd3-81a1-bbe68b4584b9",
   "metadata": {},
   "outputs": [
    {
     "name": "stdout",
     "output_type": "stream",
     "text": [
      "probs: Normal(loc: torch.Size([1, 17]), scale: torch.Size([1, 17]))\n",
      "acts: tensor([[ 4.0239,  0.5225,  3.5152,  4.0891,  0.8386,  6.5157,  2.1692,  3.2375,\n",
      "          0.0130,  0.9046,  6.2719,  2.5940, -3.2492,  0.0905,  4.5524,  2.8712,\n",
      "          2.8770]])\n",
      "log_prob: tensor([[-1.3328, -1.7076, -1.8861, -0.9560, -1.0769, -3.1718, -0.7831, -1.0755,\n",
      "         -2.9972, -1.8199, -2.7967,  2.0940, -7.1604, -1.8504, -2.2363, -1.6565,\n",
      "          1.0902]])\n"
     ]
    },
    {
     "data": {
      "text/plain": [
       "tensor([[-29.3231]])"
      ]
     },
     "execution_count": 32,
     "metadata": {},
     "output_type": "execute_result"
    }
   ],
   "source": [
    "T.manual_seed(1)\n",
    "probs = T.distributions.normal.Normal(T.rand(1,17)*5, T.clamp(T.rand(1,17)*3, 10**-4, 2))\n",
    "print(\"probs:\", probs)\n",
    "\n",
    "acts = probs.sample()\n",
    "print(\"acts:\", acts)\n",
    "log_prob = probs.log_prob(acts)\n",
    "print(\"log_prob:\", log_prob)\n",
    "log_prob.sum(1, keepdim=True)\n",
    "# Why is probability missing from the compute_loss func??"
   ]
  },
  {
   "cell_type": "code",
   "execution_count": 186,
   "id": "268c5568-6306-4be6-b0fb-aadcec44a980",
   "metadata": {},
   "outputs": [
    {
     "data": {
      "text/plain": [
       "4.537723395901116e-05"
      ]
     },
     "execution_count": 186,
     "metadata": {},
     "output_type": "execute_result"
    }
   ],
   "source": [
    "0.9999**100000"
   ]
  },
  {
   "cell_type": "code",
   "execution_count": 37,
   "id": "1a581427-be2e-4c22-a93b-34a2b6471e1c",
   "metadata": {},
   "outputs": [
    {
     "data": {
      "text/plain": [
       "False"
      ]
     },
     "execution_count": 37,
     "metadata": {},
     "output_type": "execute_result"
    }
   ],
   "source": [
    "new_dtype = str\n",
    "isinstance(new_dtype, str)"
   ]
  },
  {
   "cell_type": "code",
   "execution_count": 39,
   "id": "9aeea60d-a835-4bb4-a22f-fc685f2ed276",
   "metadata": {},
   "outputs": [
    {
     "data": {
      "text/plain": [
       "torch.int32"
      ]
     },
     "execution_count": 39,
     "metadata": {},
     "output_type": "execute_result"
    }
   ],
   "source": [
    "getattr(T, \"int32\")"
   ]
  },
  {
   "cell_type": "code",
   "execution_count": 10,
   "id": "07b45758-d5f5-4d09-ac4c-e637f50c3f40",
   "metadata": {},
   "outputs": [
    {
     "data": {
      "text/plain": [
       "<hello.c: 3>"
      ]
     },
     "execution_count": 10,
     "metadata": {},
     "output_type": "execute_result"
    }
   ],
   "source": [
    "from enum import Enum\n",
    "new_var = Enum(\"hello\", [\"a\",\"b\",\"c\"])\n",
    "new_var.c"
   ]
  },
  {
   "cell_type": "code",
   "execution_count": 16,
   "id": "081242b1-e95d-42de-bb7d-a2f023980423",
   "metadata": {},
   "outputs": [
    {
     "name": "stdout",
     "output_type": "stream",
     "text": [
      "Help on function new_func in module __main__:\n",
      "\n",
      "new_func(x: int = 10, y: float = 11.0)\n",
      "\n"
     ]
    }
   ],
   "source": [
    "def new_func(x:int=10, y:float=11.0):\n",
    "    return x*y\n",
    "help(new_func)"
   ]
  },
  {
   "cell_type": "code",
   "execution_count": 42,
   "id": "28555b1a-736e-44d3-b218-0f3462a1185e",
   "metadata": {},
   "outputs": [
    {
     "data": {
      "text/plain": [
       "OrderedDict([('x', 10), ('y', 12)])"
      ]
     },
     "execution_count": 42,
     "metadata": {},
     "output_type": "execute_result"
    }
   ],
   "source": [
    "from collections import namedtuple\n",
    "new_var = namedtuple('new_var', \"x y\")\n",
    "another_var = new_var(10,12)\n",
    "#another_var = hello\n",
    "another_var._asdict()\n",
    "#another_var = hello(11, 10)"
   ]
  },
  {
   "cell_type": "code",
   "execution_count": 22,
   "id": "ead15760-7c7e-4fa4-9a6f-8487a648ce1a",
   "metadata": {},
   "outputs": [],
   "source": [
    "class fakeNet(nn.Module):\n",
    "    def __init__(self):\n",
    "        super(fakeNet, self).__init__()\n",
    "        self.layer1 = nn.Linear(3, 10)\n",
    "        self.layer2 = nn.Linear(10, 1)\n",
    "        \n",
    "    def forward(self, x):\n",
    "        x = nn.ReLU(self.layer1(x))\n",
    "        x = nn.ReLU(self.layer2(x))\n",
    "        return x\n",
    "    \n",
    "fake_model = fakeNet()"
   ]
  },
  {
   "cell_type": "code",
   "execution_count": 10,
   "id": "3b2d578a-2997-489a-b13d-60ee0152281e",
   "metadata": {},
   "outputs": [
    {
     "data": {
      "text/plain": [
       "[Parameter containing:\n",
       " tensor([[ 0.5463,  0.5572, -0.4750],\n",
       "         [ 0.1517,  0.4329, -0.1134],\n",
       "         [ 0.1629,  0.5508,  0.3456],\n",
       "         [ 0.2774,  0.0799, -0.1599],\n",
       "         [-0.5589,  0.1509,  0.1222],\n",
       "         [ 0.0269, -0.2055, -0.3084],\n",
       "         [ 0.2345, -0.0148, -0.1097],\n",
       "         [ 0.3132,  0.5123, -0.0122],\n",
       "         [-0.0155,  0.5194, -0.4481],\n",
       "         [ 0.1953, -0.5506, -0.2500]], requires_grad=True),\n",
       " Parameter containing:\n",
       " tensor([ 0.5165, -0.4564, -0.4033,  0.4208,  0.1573, -0.1503,  0.2932, -0.2530,\n",
       "         -0.0411, -0.4838], requires_grad=True),\n",
       " Parameter containing:\n",
       " tensor([[-0.3120,  0.0443, -0.0293,  0.2144,  0.1787,  0.1972,  0.1258, -0.2935,\n",
       "          -0.2201, -0.0204]], requires_grad=True),\n",
       " Parameter containing:\n",
       " tensor([-0.0843], requires_grad=True)]"
      ]
     },
     "execution_count": 10,
     "metadata": {},
     "output_type": "execute_result"
    }
   ],
   "source": [
    "def _get_optimizer_params(optimizer: T.optim.Optimizer):\n",
    "    return sum([g['params'] for g in optimizer.param_groups], [])\n",
    "\n",
    "_get_optimizer_params(T.optim.Adam(fake_model.parameters()))"
   ]
  },
  {
   "cell_type": "code",
   "execution_count": null,
   "id": "a42e1d37-5668-4ba2-aee4-6241c9fe74fc",
   "metadata": {},
   "outputs": [],
   "source": [
    "help()"
   ]
  },
  {
   "cell_type": "code",
   "execution_count": null,
   "id": "337d0189-bd88-4ff3-83f2-7bb953d43518",
   "metadata": {},
   "outputs": [],
   "source": []
  }
 ],
 "metadata": {
  "kernelspec": {
   "display_name": "Python 3 (ipykernel)",
   "language": "python",
   "name": "python3"
  },
  "language_info": {
   "codemirror_mode": {
    "name": "ipython",
    "version": 3
   },
   "file_extension": ".py",
   "mimetype": "text/x-python",
   "name": "python",
   "nbconvert_exporter": "python",
   "pygments_lexer": "ipython3",
   "version": "3.7.13"
  }
 },
 "nbformat": 4,
 "nbformat_minor": 5
}
