{
 "cells": [
  {
   "cell_type": "code",
   "execution_count": 1,
   "id": "d316e235-308a-442b-a951-eaf2f8b7db8b",
   "metadata": {},
   "outputs": [
    {
     "name": "stderr",
     "output_type": "stream",
     "text": [
      "C:\\Users\\areeb\\anaconda3\\envs\\msc_test\\lib\\site-packages\\tqdm\\auto.py:22: TqdmWarning: IProgress not found. Please update jupyter and ipywidgets. See https://ipywidgets.readthedocs.io/en/stable/user_install.html\n",
      "  from .autonotebook import tqdm as notebook_tqdm\n"
     ]
    }
   ],
   "source": [
    "import gin\n",
    "import copy\n",
    "import numpy as np\n",
    "import os\n",
    "\n",
    "\n",
    "import torch as T\n",
    "import torch.nn as nn\n",
    "import torch.nn.functional as F\n",
    "from collections import namedtuple, OrderedDict\n",
    "import networkx as nx"
   ]
  },
  {
   "cell_type": "code",
   "execution_count": 15,
   "id": "975754e5-1bba-4f25-b96a-8ae9391ac22d",
   "metadata": {},
   "outputs": [
    {
     "name": "stdout",
     "output_type": "stream",
     "text": [
      "2608324483760\n",
      "[False False False False False False False False False False False False\n",
      " False False False False False False False False False False False False\n",
      " False]\n",
      "2608324484816\n"
     ]
    }
   ],
   "source": [
    "new_var = np.zeros(shape=5*5, dtype=np.bool8)\n",
    "print(id(new_var))\n",
    "print(new_var)\n",
    "print(id(copy.deepcopy(new_var)))\n",
    "np.random.choice()"
   ]
  },
  {
   "cell_type": "code",
   "execution_count": 24,
   "id": "551ec6e2-4054-4a23-8731-4a5e8a19fe49",
   "metadata": {},
   "outputs": [
    {
     "ename": "IndexError",
     "evalue": "Dimension out of range (expected to be in range of [-1, 0], but got 1)",
     "output_type": "error",
     "traceback": [
      "\u001b[1;31m---------------------------------------------------------------------------\u001b[0m",
      "\u001b[1;31mIndexError\u001b[0m                                Traceback (most recent call last)",
      "\u001b[1;32m~\\AppData\\Local\\Temp\\ipykernel_22124\\1588063165.py\u001b[0m in \u001b[0;36m<module>\u001b[1;34m\u001b[0m\n\u001b[1;32m----> 1\u001b[1;33m \u001b[0mT\u001b[0m\u001b[1;33m.\u001b[0m\u001b[0mconcat\u001b[0m\u001b[1;33m(\u001b[0m\u001b[1;33m[\u001b[0m\u001b[0mT\u001b[0m\u001b[1;33m.\u001b[0m\u001b[0mtensor\u001b[0m\u001b[1;33m(\u001b[0m\u001b[1;33m[\u001b[0m\u001b[1;36m0\u001b[0m\u001b[1;33m,\u001b[0m\u001b[1;36m1\u001b[0m\u001b[1;33m]\u001b[0m\u001b[1;33m)\u001b[0m\u001b[1;33m,\u001b[0m\u001b[0mT\u001b[0m\u001b[1;33m.\u001b[0m\u001b[0mtensor\u001b[0m\u001b[1;33m(\u001b[0m\u001b[1;33m[\u001b[0m\u001b[1;36m4\u001b[0m\u001b[1;33m,\u001b[0m\u001b[1;36m5\u001b[0m\u001b[1;33m]\u001b[0m\u001b[1;33m)\u001b[0m\u001b[1;33m]\u001b[0m\u001b[1;33m,\u001b[0m \u001b[0mdim\u001b[0m\u001b[1;33m=\u001b[0m\u001b[1;36m1\u001b[0m\u001b[1;33m)\u001b[0m\u001b[1;33m\u001b[0m\u001b[1;33m\u001b[0m\u001b[0m\n\u001b[0m",
      "\u001b[1;31mIndexError\u001b[0m: Dimension out of range (expected to be in range of [-1, 0], but got 1)"
     ]
    }
   ],
   "source": [
    "T.concat([T.tensor([0,1]),T.tensor([4,5])], dim=1)"
   ]
  },
  {
   "cell_type": "code",
   "execution_count": 48,
   "id": "2bb44119-8d74-45cf-a63d-a1b50abac87e",
   "metadata": {},
   "outputs": [
    {
     "name": "stdout",
     "output_type": "stream",
     "text": [
      "False\n"
     ]
    },
    {
     "data": {
      "text/plain": [
       "TensorSpec(shape=(1, 4, 3), dtype=torch.float32)"
      ]
     },
     "execution_count": 48,
     "metadata": {},
     "output_type": "execute_result"
    }
   ],
   "source": [
    "from hidio.sac.utils import calc_default_target_entropy\n",
    "from hidio.sac.TensorSpec import TensorSpec\n",
    "new_tensor_spec = TensorSpec((1,4, 3))\n",
    "print(new_tensor_spec.is_bounded())\n",
    "new_tensor_spec"
   ]
  },
  {
   "cell_type": "code",
   "execution_count": 37,
   "id": "c3a953fd-8d89-4cbc-a84c-b87964e987fe",
   "metadata": {},
   "outputs": [
    {
     "name": "stdout",
     "output_type": "stream",
     "text": [
      "2.56\n"
     ]
    }
   ],
   "source": [
    "print(\"{:.2f}\".format(2.5555))"
   ]
  },
  {
   "cell_type": "code",
   "execution_count": 31,
   "id": "9da2fab2-9556-4c21-a91d-72f64ab87fa8",
   "metadata": {},
   "outputs": [
    {
     "name": "stdout",
     "output_type": "stream",
     "text": [
      "Help on class dtype in module torch:\n",
      "\n",
      "class dtype(builtins.object)\n",
      " |  Methods defined here:\n",
      " |  \n",
      " |  __reduce__(...)\n",
      " |      Helper for pickle.\n",
      " |  \n",
      " |  __repr__(self, /)\n",
      " |      Return repr(self).\n",
      " |  \n",
      " |  ----------------------------------------------------------------------\n",
      " |  Data descriptors defined here:\n",
      " |  \n",
      " |  is_complex\n",
      " |  \n",
      " |  is_floating_point\n",
      " |  \n",
      " |  is_signed\n",
      "\n"
     ]
    }
   ],
   "source": [
    "help(T.dtype)"
   ]
  },
  {
   "cell_type": "code",
   "execution_count": 37,
   "id": "1a581427-be2e-4c22-a93b-34a2b6471e1c",
   "metadata": {},
   "outputs": [
    {
     "data": {
      "text/plain": [
       "False"
      ]
     },
     "execution_count": 37,
     "metadata": {},
     "output_type": "execute_result"
    }
   ],
   "source": [
    "new_dtype = str\n",
    "isinstance(new_dtype, str)"
   ]
  },
  {
   "cell_type": "code",
   "execution_count": 39,
   "id": "9aeea60d-a835-4bb4-a22f-fc685f2ed276",
   "metadata": {},
   "outputs": [
    {
     "data": {
      "text/plain": [
       "torch.int32"
      ]
     },
     "execution_count": 39,
     "metadata": {},
     "output_type": "execute_result"
    }
   ],
   "source": [
    "getattr(T, \"int32\")"
   ]
  },
  {
   "cell_type": "code",
   "execution_count": 10,
   "id": "07b45758-d5f5-4d09-ac4c-e637f50c3f40",
   "metadata": {},
   "outputs": [
    {
     "data": {
      "text/plain": [
       "<hello.c: 3>"
      ]
     },
     "execution_count": 10,
     "metadata": {},
     "output_type": "execute_result"
    }
   ],
   "source": [
    "from enum import Enum\n",
    "new_var = Enum(\"hello\", [\"a\",\"b\",\"c\"])\n",
    "new_var.c"
   ]
  },
  {
   "cell_type": "code",
   "execution_count": 16,
   "id": "081242b1-e95d-42de-bb7d-a2f023980423",
   "metadata": {},
   "outputs": [
    {
     "name": "stdout",
     "output_type": "stream",
     "text": [
      "Help on function new_func in module __main__:\n",
      "\n",
      "new_func(x: int = 10, y: float = 11.0)\n",
      "\n"
     ]
    }
   ],
   "source": [
    "def new_func(x:int=10, y:float=11.0):\n",
    "    return x*y\n",
    "help(new_func)"
   ]
  },
  {
   "cell_type": "code",
   "execution_count": 42,
   "id": "28555b1a-736e-44d3-b218-0f3462a1185e",
   "metadata": {},
   "outputs": [
    {
     "data": {
      "text/plain": [
       "OrderedDict([('x', 10), ('y', 12)])"
      ]
     },
     "execution_count": 42,
     "metadata": {},
     "output_type": "execute_result"
    }
   ],
   "source": [
    "from collections import namedtuple\n",
    "new_var = namedtuple('new_var', \"x y\")\n",
    "another_var = new_var(10,12)\n",
    "#another_var = hello\n",
    "another_var._asdict()\n",
    "#another_var = hello(11, 10)"
   ]
  },
  {
   "cell_type": "code",
   "execution_count": 32,
   "id": "da508750-5182-49a2-9a29-0c6d43291b80",
   "metadata": {},
   "outputs": [
    {
     "name": "stdout",
     "output_type": "stream",
     "text": [
      "20\n"
     ]
    },
    {
     "data": {
      "text/plain": [
       "1"
      ]
     },
     "execution_count": 32,
     "metadata": {},
     "output_type": "execute_result"
    }
   ],
   "source": [
    "def new_func() -> str:\n",
    "    print(20)\n",
    "    return 1\n",
    "\n",
    "new_func()"
   ]
  },
  {
   "cell_type": "code",
   "execution_count": 22,
   "id": "ead15760-7c7e-4fa4-9a6f-8487a648ce1a",
   "metadata": {},
   "outputs": [],
   "source": [
    "class fakeNet(nn.Module):\n",
    "    def __init__(self):\n",
    "        super(fakeNet, self).__init__()\n",
    "        self.layer1 = nn.Linear(3, 10)\n",
    "        self.layer2 = nn.Linear(10, 1)\n",
    "        \n",
    "    def forward(self, x):\n",
    "        x = nn.ReLU(self.layer1(x))\n",
    "        x = nn.ReLU(self.layer2(x))\n",
    "        return x\n",
    "    \n",
    "fake_model = fakeNet()"
   ]
  },
  {
   "cell_type": "code",
   "execution_count": 10,
   "id": "3b2d578a-2997-489a-b13d-60ee0152281e",
   "metadata": {},
   "outputs": [
    {
     "data": {
      "text/plain": [
       "[Parameter containing:\n",
       " tensor([[ 0.5463,  0.5572, -0.4750],\n",
       "         [ 0.1517,  0.4329, -0.1134],\n",
       "         [ 0.1629,  0.5508,  0.3456],\n",
       "         [ 0.2774,  0.0799, -0.1599],\n",
       "         [-0.5589,  0.1509,  0.1222],\n",
       "         [ 0.0269, -0.2055, -0.3084],\n",
       "         [ 0.2345, -0.0148, -0.1097],\n",
       "         [ 0.3132,  0.5123, -0.0122],\n",
       "         [-0.0155,  0.5194, -0.4481],\n",
       "         [ 0.1953, -0.5506, -0.2500]], requires_grad=True),\n",
       " Parameter containing:\n",
       " tensor([ 0.5165, -0.4564, -0.4033,  0.4208,  0.1573, -0.1503,  0.2932, -0.2530,\n",
       "         -0.0411, -0.4838], requires_grad=True),\n",
       " Parameter containing:\n",
       " tensor([[-0.3120,  0.0443, -0.0293,  0.2144,  0.1787,  0.1972,  0.1258, -0.2935,\n",
       "          -0.2201, -0.0204]], requires_grad=True),\n",
       " Parameter containing:\n",
       " tensor([-0.0843], requires_grad=True)]"
      ]
     },
     "execution_count": 10,
     "metadata": {},
     "output_type": "execute_result"
    }
   ],
   "source": [
    "def _get_optimizer_params(optimizer: T.optim.Optimizer):\n",
    "    return sum([g['params'] for g in optimizer.param_groups], [])\n",
    "\n",
    "_get_optimizer_params(T.optim.Adam(fake_model.parameters()))"
   ]
  },
  {
   "cell_type": "code",
   "execution_count": 16,
   "id": "d0a46bc6-a125-400e-b72a-c8adbb641dd4",
   "metadata": {},
   "outputs": [
    {
     "ename": "TypeError",
     "evalue": "can only concatenate list (not \"int\") to list",
     "output_type": "error",
     "traceback": [
      "\u001b[1;31m---------------------------------------------------------------------------\u001b[0m",
      "\u001b[1;31mTypeError\u001b[0m                                 Traceback (most recent call last)",
      "\u001b[1;32m~\\AppData\\Local\\Temp\\ipykernel_7596\\3657808667.py\u001b[0m in \u001b[0;36m<module>\u001b[1;34m\u001b[0m\n\u001b[1;32m----> 1\u001b[1;33m \u001b[0msum\u001b[0m\u001b[1;33m(\u001b[0m\u001b[1;33m{\u001b[0m\u001b[1;36m1\u001b[0m\u001b[1;33m:\u001b[0m\u001b[1;34m\"a\"\u001b[0m\u001b[1;33m,\u001b[0m \u001b[1;36m2\u001b[0m\u001b[1;33m:\u001b[0m\u001b[1;34m\"b\"\u001b[0m\u001b[1;33m}\u001b[0m\u001b[1;33m,\u001b[0m \u001b[1;33m[\u001b[0m\u001b[1;33m]\u001b[0m\u001b[1;33m)\u001b[0m\u001b[1;33m\u001b[0m\u001b[1;33m\u001b[0m\u001b[0m\n\u001b[0m",
      "\u001b[1;31mTypeError\u001b[0m: can only concatenate list (not \"int\") to list"
     ]
    }
   ],
   "source": [
    "sum({1:\"a\", 2:\"b\"}, [])"
   ]
  },
  {
   "cell_type": "code",
   "execution_count": null,
   "id": "a42e1d37-5668-4ba2-aee4-6241c9fe74fc",
   "metadata": {},
   "outputs": [],
   "source": [
    "help()"
   ]
  },
  {
   "cell_type": "code",
   "execution_count": null,
   "id": "337d0189-bd88-4ff3-83f2-7bb953d43518",
   "metadata": {},
   "outputs": [],
   "source": []
  }
 ],
 "metadata": {
  "kernelspec": {
   "display_name": "Python 3 (ipykernel)",
   "language": "python",
   "name": "python3"
  },
  "language_info": {
   "codemirror_mode": {
    "name": "ipython",
    "version": 3
   },
   "file_extension": ".py",
   "mimetype": "text/x-python",
   "name": "python",
   "nbconvert_exporter": "python",
   "pygments_lexer": "ipython3",
   "version": "3.7.13"
  }
 },
 "nbformat": 4,
 "nbformat_minor": 5
}
